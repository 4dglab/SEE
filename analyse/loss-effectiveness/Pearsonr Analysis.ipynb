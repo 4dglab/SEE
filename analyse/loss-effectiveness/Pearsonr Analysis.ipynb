{
 "cells": [
  {
   "cell_type": "code",
   "execution_count": 1,
   "id": "c00b71f1",
   "metadata": {},
   "outputs": [],
   "source": [
    "import matplotlib.pyplot as plt\n",
    "import numpy as np\n",
    "import pandas as pd\n",
    "import seaborn as sns\n",
    "from scipy import stats"
   ]
  },
  {
   "cell_type": "code",
   "execution_count": 2,
   "id": "c4cdeeea",
   "metadata": {},
   "outputs": [],
   "source": [
    "eval_set = np.load('/lmh_data/data/sclab/sclab/eval_dataset.npy', allow_pickle=True)\n",
    "\n",
    "preds = np.load('/lmh_data/data/sclab/sclab/tmp/PDGFRA/evaluate.npy', allow_pickle=True)\n",
    "preds_old = np.load('/lmh_data/data/sclab/sclab/tmp/PDGFRA_old/evaluate.npy', allow_pickle=True)"
   ]
  },
  {
   "cell_type": "code",
   "execution_count": 3,
   "id": "eae0cacd",
   "metadata": {},
   "outputs": [
    {
     "data": {
      "text/html": [
       "<div>\n",
       "<style scoped>\n",
       "    .dataframe tbody tr th:only-of-type {\n",
       "        vertical-align: middle;\n",
       "    }\n",
       "\n",
       "    .dataframe tbody tr th {\n",
       "        vertical-align: top;\n",
       "    }\n",
       "\n",
       "    .dataframe thead th {\n",
       "        text-align: right;\n",
       "    }\n",
       "</style>\n",
       "<table border=\"1\" class=\"dataframe\">\n",
       "  <thead>\n",
       "    <tr style=\"text-align: right;\">\n",
       "      <th></th>\n",
       "      <th>pearson</th>\n",
       "      <th>cell_type</th>\n",
       "      <th>loss</th>\n",
       "    </tr>\n",
       "  </thead>\n",
       "  <tbody>\n",
       "    <tr>\n",
       "      <th>0</th>\n",
       "      <td>0.911136</td>\n",
       "      <td>ODC</td>\n",
       "      <td>control</td>\n",
       "    </tr>\n",
       "    <tr>\n",
       "      <th>1</th>\n",
       "      <td>0.886920</td>\n",
       "      <td>OPC</td>\n",
       "      <td>control</td>\n",
       "    </tr>\n",
       "    <tr>\n",
       "      <th>2</th>\n",
       "      <td>0.992076</td>\n",
       "      <td>OPC</td>\n",
       "      <td>control</td>\n",
       "    </tr>\n",
       "    <tr>\n",
       "      <th>3</th>\n",
       "      <td>0.774242</td>\n",
       "      <td>ODC</td>\n",
       "      <td>control</td>\n",
       "    </tr>\n",
       "    <tr>\n",
       "      <th>4</th>\n",
       "      <td>0.951122</td>\n",
       "      <td>ODC</td>\n",
       "      <td>control</td>\n",
       "    </tr>\n",
       "    <tr>\n",
       "      <th>...</th>\n",
       "      <td>...</td>\n",
       "      <td>...</td>\n",
       "      <td>...</td>\n",
       "    </tr>\n",
       "    <tr>\n",
       "      <th>693</th>\n",
       "      <td>0.625152</td>\n",
       "      <td>Astro</td>\n",
       "      <td>MSE</td>\n",
       "    </tr>\n",
       "    <tr>\n",
       "      <th>694</th>\n",
       "      <td>0.816966</td>\n",
       "      <td>ODC</td>\n",
       "      <td>MSE</td>\n",
       "    </tr>\n",
       "    <tr>\n",
       "      <th>695</th>\n",
       "      <td>0.755370</td>\n",
       "      <td>Astro</td>\n",
       "      <td>MSE</td>\n",
       "    </tr>\n",
       "    <tr>\n",
       "      <th>696</th>\n",
       "      <td>0.912553</td>\n",
       "      <td>ODC</td>\n",
       "      <td>MSE</td>\n",
       "    </tr>\n",
       "    <tr>\n",
       "      <th>697</th>\n",
       "      <td>0.779102</td>\n",
       "      <td>ODC</td>\n",
       "      <td>MSE</td>\n",
       "    </tr>\n",
       "  </tbody>\n",
       "</table>\n",
       "<p>698 rows × 3 columns</p>\n",
       "</div>"
      ],
      "text/plain": [
       "      pearson cell_type     loss\n",
       "0    0.911136       ODC  control\n",
       "1    0.886920       OPC  control\n",
       "2    0.992076       OPC  control\n",
       "3    0.774242       ODC  control\n",
       "4    0.951122       ODC  control\n",
       "..        ...       ...      ...\n",
       "693  0.625152     Astro      MSE\n",
       "694  0.816966       ODC      MSE\n",
       "695  0.755370     Astro      MSE\n",
       "696  0.912553       ODC      MSE\n",
       "697  0.779102       ODC      MSE\n",
       "\n",
       "[698 rows x 3 columns]"
      ]
     },
     "execution_count": 3,
     "metadata": {},
     "output_type": "execute_result"
    }
   ],
   "source": [
    "def get_df(preds):\n",
    "    data = pd.DataFrame()\n",
    "    for i in range(len(eval_set)):\n",
    "#         if eval_set[i]['identity'] == 'fake':\n",
    "#             continue\n",
    "        _pearson = stats.pearsonr(preds[i]['predict'], preds[i]['target'])[0]\n",
    "        _data = pd.DataFrame({'pearson': [_pearson], 'cell_type': [eval_set[i]['cell_type']]})\n",
    "        data = pd.concat([data, _data], axis=0, ignore_index=True)\n",
    "#         data.append(_data, ignore_index=True)\n",
    "    return data\n",
    "\n",
    "preds_info, preds_old_info = get_df(preds), get_df(preds_old)\n",
    "preds_info['loss'] = 'control'\n",
    "preds_old_info['loss'] = 'MSE'\n",
    "data = pd.concat([preds_info, preds_old_info], axis=0, ignore_index=True)\n",
    "data"
   ]
  },
  {
   "cell_type": "code",
   "execution_count": 4,
   "id": "a6b6e1c6",
   "metadata": {},
   "outputs": [
    {
     "data": {
      "image/png": "[encoded data removed]",
      "text/plain": [
       "<Figure size 640x480 with 1 Axes>"
      ]
     },
     "metadata": {},
     "output_type": "display_data"
    }
   ],
   "source": [
    "sns.set_theme(style=\"whitegrid\")\n",
    "sns.boxplot(\n",
    "    x='cell_type', y='pearson', data=data, hue='loss', \n",
    "#     palette=colors, saturation=1, linewidth=figure_size['very_small']\n",
    ")\n",
    "\n",
    "sns.despine()\n",
    "# set_Border(plt.gca())\n",
    "# plt.tick_params(colors='black', bottom=True, left=True, labelsize=figure_size['ultra'])\n",
    "# plt.legend(frameon=False, markerscale=2, borderpad=0, borderaxespad=0, fontsize=figure_size['middle'])\n",
    "plt.legend()\n",
    "plt.grid(False)\n",
    "# plt.xlabel(\"SRED Level\", fontsize=figure_size['ultra'])\n",
    "# plt.ylabel(\"TAD Volume\", fontsize=figure_size['ultra'])\n",
    "\n",
    "# plt.savefig('figure_file/{}.pdf'.format(title), format='pdf', bbox_inches='tight')\n",
    "plt.show()"
   ]
  }
 ],
 "metadata": {
  "kernelspec": {
   "display_name": "sclab",
   "language": "python",
   "name": "sclab"
  },
  "language_info": {
   "codemirror_mode": {
    "name": "ipython",
    "version": 3
   },
   "file_extension": ".py",
   "mimetype": "text/x-python",
   "name": "python",
   "nbconvert_exporter": "python",
   "pygments_lexer": "ipython3",
   "version": "3.8.13"
  }
 },
 "nbformat": 4,
 "nbformat_minor": 5
}
