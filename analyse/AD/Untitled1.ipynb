{
 "cells": [
  {
   "cell_type": "code",
   "execution_count": 1,
   "id": "aa1042c4",
   "metadata": {},
   "outputs": [],
   "source": [
    "import numpy as np"
   ]
  },
  {
   "cell_type": "code",
   "execution_count": 2,
   "id": "0191cb09",
   "metadata": {},
   "outputs": [],
   "source": [
    "control = np.load('/lmh_data/data/sclab/sclab/eval_dataset.npy', allow_pickle=True)\n",
    "AD = np.load('/lmh_data/data/sclab/sclab/AD/eval_dataset.npy', allow_pickle=True)"
   ]
  },
  {
   "cell_type": "code",
   "execution_count": 5,
   "id": "aec0929d",
   "metadata": {},
   "outputs": [],
   "source": [
    "def get_exp(dataset, cell_type, gene_name):\n",
    "    _where = np.where(dataset[0]['scRNA_head']==gene_name)[0][0]\n",
    "    nums = []\n",
    "    for _data in dataset:\n",
    "        if _data['cell_type'] != cell_type:\n",
    "            continue\n",
    "        nums.append(_data['scRNA'][_where])\n",
    "    return nums"
   ]
  },
  {
   "cell_type": "code",
   "execution_count": 7,
   "id": "c060f27a",
   "metadata": {},
   "outputs": [
    {
     "name": "stdout",
     "output_type": "stream",
     "text": [
      "30.054794520547944\n",
      "32.810344827586206\n"
     ]
    }
   ],
   "source": [
    "print(np.mean(get_exp(control, 'Astro', 'SLC1A2')))\n",
    "print(np.mean(get_exp(AD, 'ASC', 'SLC1A2')))"
   ]
  },
  {
   "cell_type": "code",
   "execution_count": 8,
   "id": "38863f36",
   "metadata": {},
   "outputs": [
    {
     "name": "stdout",
     "output_type": "stream",
     "text": [
      "10.452054794520548\n",
      "18.32758620689655\n"
     ]
    }
   ],
   "source": [
    "print(np.mean(get_exp(control, 'Astro', 'SLC1A3')))\n",
    "print(np.mean(get_exp(AD, 'ASC', 'SLC1A3')))"
   ]
  },
  {
   "cell_type": "code",
   "execution_count": 9,
   "id": "f421101e",
   "metadata": {},
   "outputs": [
    {
     "name": "stdout",
     "output_type": "stream",
     "text": [
      "22.726027397260275\n",
      "33.747126436781606\n"
     ]
    }
   ],
   "source": [
    "print(np.mean(get_exp(control, 'Astro', 'GPM6A')))\n",
    "print(np.mean(get_exp(AD, 'ASC', 'GPM6A')))"
   ]
  },
  {
   "cell_type": "code",
   "execution_count": null,
   "id": "6b93b579",
   "metadata": {},
   "outputs": [],
   "source": []
  }
 ],
 "metadata": {
  "kernelspec": {
   "display_name": "sclab",
   "language": "python",
   "name": "sclab"
  },
  "language_info": {
   "codemirror_mode": {
    "name": "ipython",
    "version": 3
   },
   "file_extension": ".py",
   "mimetype": "text/x-python",
   "name": "python",
   "nbconvert_exporter": "python",
   "pygments_lexer": "ipython3",
   "version": "3.8.13"
  }
 },
 "nbformat": 4,
 "nbformat_minor": 5
}
