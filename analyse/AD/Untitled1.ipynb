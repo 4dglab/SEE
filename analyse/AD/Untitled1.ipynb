{
 "cells": [
  {
   "cell_type": "code",
   "execution_count": 1,
   "id": "aa1042c4",
   "metadata": {},
   "outputs": [],
   "source": [
    "import anndata\n",
    "import scanpy as sc\n",
    "import numpy as np\n",
    "import pandas as pd"
   ]
  },
  {
   "cell_type": "code",
   "execution_count": 2,
   "id": "0191cb09",
   "metadata": {},
   "outputs": [
    {
     "data": {
      "text/plain": [
       "View of AnnData object with n_obs × n_vars = 4756 × 36114\n",
       "    obs: 'Sample.ID', 'Batch', 'Sex', 'Age', 'Diagnosis', 'UMAP_1', 'UMAP_2', 'cluster', 'celltype'"
      ]
     },
     "execution_count": 2,
     "metadata": {},
     "output_type": "execute_result"
    }
   ],
   "source": [
    "adata = sc.read('/lmh_data/data/sclab/syn22092838/snRNA_counts.mtx')\n",
    "genes = pd.read_csv('/lmh_data/data/sclab/syn22092838/genes.csv', header=None)\n",
    "scRNA_metadata = pd.read_csv('/lmh_data/data/sclab/syn22092838/snRNA_metadta.csv', index_col=0)\n",
    "\n",
    "adata.obs_names = genes.values.reshape(-1)\n",
    "adata.var = scRNA_metadata\n",
    "adata = adata.T\n",
    "\n",
    "adata = adata[adata.obs[adata.obs['celltype'] == 'ASC'].index,:]\n",
    "# adata.obs.celltype = adata.obs.celltype.cat.rename_categories({'ASC': 'Astro'})\n",
    "adata"
   ]
  },
  {
   "cell_type": "code",
   "execution_count": 3,
   "id": "345bd5c8",
   "metadata": {},
   "outputs": [],
   "source": [
    "def get_exp(gene_name):\n",
    "    print(adata[adata.obs[adata.obs['Diagnosis'] == 'Control'].index, gene_name].X.mean())\n",
    "    print(adata[adata.obs[adata.obs['Diagnosis'] == 'AD'].index, gene_name].X.mean())"
   ]
  },
  {
   "cell_type": "code",
   "execution_count": 4,
   "id": "8d0ccfe6",
   "metadata": {},
   "outputs": [
    {
     "name": "stdout",
     "output_type": "stream",
     "text": [
      "61.971592\n",
      "41.232307\n"
     ]
    }
   ],
   "source": [
    "get_exp('SLC1A2')"
   ]
  },
  {
   "cell_type": "code",
   "execution_count": 5,
   "id": "41dc4900",
   "metadata": {},
   "outputs": [
    {
     "name": "stdout",
     "output_type": "stream",
     "text": [
      "49.18011\n",
      "45.83812\n"
     ]
    }
   ],
   "source": [
    "get_exp('GPM6A')"
   ]
  },
  {
   "cell_type": "code",
   "execution_count": 6,
   "id": "075219b3",
   "metadata": {},
   "outputs": [
    {
     "name": "stdout",
     "output_type": "stream",
     "text": [
      "4.806818\n",
      "5.2616825\n",
      "0.98579544\n",
      "1.21996\n"
     ]
    }
   ],
   "source": [
    "get_exp('CLU')\n",
    "get_exp('APP')"
   ]
  },
  {
   "cell_type": "code",
   "execution_count": 8,
   "id": "59598980",
   "metadata": {},
   "outputs": [
    {
     "name": "stdout",
     "output_type": "stream",
     "text": [
      "1.8835227\n",
      "1.1331776\n"
     ]
    }
   ],
   "source": [
    "get_exp('APOE')"
   ]
  },
  {
   "cell_type": "code",
   "execution_count": null,
   "id": "6504e964",
   "metadata": {},
   "outputs": [],
   "source": []
  }
 ],
 "metadata": {
  "kernelspec": {
   "display_name": "sclab",
   "language": "python",
   "name": "sclab"
  },
  "language_info": {
   "codemirror_mode": {
    "name": "ipython",
    "version": 3
   },
   "file_extension": ".py",
   "mimetype": "text/x-python",
   "name": "python",
   "nbconvert_exporter": "python",
   "pygments_lexer": "ipython3",
   "version": "3.8.13"
  }
 },
 "nbformat": 4,
 "nbformat_minor": 5
}
