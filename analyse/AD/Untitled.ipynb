{
 "cells": [
  {
   "cell_type": "code",
   "execution_count": 5,
   "id": "a62fb7bb",
   "metadata": {},
   "outputs": [],
   "source": [
    "import numpy as np\n",
    "import matplotlib.pyplot as plt"
   ]
  },
  {
   "cell_type": "code",
   "execution_count": 2,
   "id": "74e98a73",
   "metadata": {},
   "outputs": [],
   "source": [
    "dataset = np.load('/lmh_data/data/sclab/sclab/AD/eval_dataset.npy', allow_pickle=True)"
   ]
  },
  {
   "cell_type": "code",
   "execution_count": 134,
   "id": "02457da9",
   "metadata": {},
   "outputs": [
    {
     "name": "stdout",
     "output_type": "stream",
     "text": [
      "[[8, 14, 7, 1, 3, 4, 3, 8, 10, 14, 1, 1, 4, 5, 12, 13, 2, 2, 3, 10], [5, 1, 0, 3, 12, 1, 2, 30, 0, 1, 2, 2, 2, 1, 9, 2, 0, 2, 1, 4]]\n"
     ]
    },
    {
     "data": {
      "image/png": "[encoded data removed]",
      "text/plain": [
       "<Figure size 640x480 with 1 Axes>"
      ]
     },
     "metadata": {},
     "output_type": "display_data"
    }
   ],
   "source": [
    "gene_name = 'APP'\n",
    "\n",
    "exps = [[], []]\n",
    "for d in dataset:\n",
    "    exp = d['scRNA'][np.where(d['scRNA_head']==gene_name)[0][0]]\n",
    "    if d['Diagnosis'] == 'AD':\n",
    "        exps[1].append(exp)\n",
    "    else:\n",
    "        exps[0].append(exp)\n",
    "\n",
    "print(exps)\n",
    "plt.boxplot(exps)\n",
    "plt.show()"
   ]
  },
  {
   "cell_type": "code",
   "execution_count": 122,
   "id": "63c9d4a3",
   "metadata": {},
   "outputs": [
    {
     "name": "stdout",
     "output_type": "stream",
     "text": [
      "APP: [[0 0 0 0 1 0 0 0 1 0 0 0 1 0 0 1 0 0 0 1]\n",
      " [1 1 0 0 2 0 0 2 0 1 0 0 1 0 0 1 0 1 0 1]]\n",
      "BMPR2: [[1 1 1 1 1 1 0 0 0 4 0 1 0 1 2 0 0 1 0 1]\n",
      " [1 2 0 0 1 0 0 0 2 0 0 0 2 0 1 0 0 0 0 0]]\n",
      "ZKSCAN1: [[1 0 0 0 0 0 2 1 0 1 1 0 0 0 0 2 1 2 1 1]\n",
      " [2 0 0 1 2 0 0 0 0 0 0 0 0 0 0 1 0 0 0 0]]\n",
      "SLTM: [[0 0 0 1 0 0 1 0 1 0 1 0 0 2 1 1 0 1 0 1]\n",
      " [1 3 1 0 3 0 0 0 0 0 0 0 0 0 0 0 0 1 0 3]]\n",
      "PFKFB2: [[0 9 0 0 0 0 0 1 0 2 0 0 0 2 1 0 1 0 2 3]\n",
      " [0 0 0 1 0 2 0 0 0 0 0 2 0 0 1 1 0 0 0 1]]\n",
      "NBEAL1: [[0 0 1 0 0 0 0 1 0 0 2 0 1 1 2 0 0 1 1 0]\n",
      " [0 0 1 0 1 0 0 1 0 0 0 2 0 0 1 2 0 1 0 1]]\n",
      "APOE: [[13  6  0  1  2  0  3  2  4  0  0  1  5  3  1  1  1  7  2  1]\n",
      " [ 2  0  2  1  4  0  1  0  0  0  2  0  0  1  3  2  1  0  2  3]]\n",
      "SPRED1: [[0 0 1 6 1 0 1 1 1 0 0 5 3 2 3 1 1 2 2 0]\n",
      " [0 0 0 0 1 0 0 0 0 0 0 0 0 0 1 0 1 0 1 3]]\n",
      "C19orf83: []\n"
     ]
    },
    {
     "name": "stderr",
     "output_type": "stream",
     "text": [
      "/tmp/ipykernel_79417/1813923021.py:14: RuntimeWarning: Mean of empty slice.\n",
      "  _mean = exps.mean(axis=1)\n",
      "/root/miniconda3/envs/sclab/lib/python3.8/site-packages/numpy/core/_methods.py:182: RuntimeWarning: invalid value encountered in divide\n",
      "  ret = um.true_divide(\n"
     ]
    },
    {
     "name": "stdout",
     "output_type": "stream",
     "text": [
      "CLU: [[ 8 14  7  1  3  4  3  8 10 14  1  1  4  5 12 13  2  2  3 10]\n",
      " [ 5  1  0  3 12  1  2 30  0  1  2  2  2  1  9  2  0  2  1  4]]\n",
      "SORL1: [[1 3 1 0 1 0 1 1 3 1 0 0 2 1 0 1 0 1 0 1]\n",
      " [0 1 0 1 1 2 0 1 0 0 1 1 0 0 3 0 0 0 2 4]]\n",
      "PICALM: [[0 0 1 0 1 1 1 1 1 2 0 0 1 1 0 1 0 0 0 1]\n",
      " [1 1 1 0 0 0 0 0 0 0 0 0 0 0 1 0 0 1 1 1]]\n",
      "SLC24A4: [[4 1 0 0 0 0 0 0 2 1 0 1 0 3 0 0 0 0 0 0]\n",
      " [0 0 0 0 0 1 0 9 0 0 0 0 0 1 0 0 0 0 0 0]]\n",
      "EIF4G3: [[0 0 1 0 2 2 0 1 1 1 1 2 1 1 1 0 3 4 2 1]\n",
      " [0 1 1 1 1 0 0 4 1 0 0 0 1 1 1 0 4 0 0 4]]\n"
     ]
    }
   ],
   "source": [
    "gene_names = [\"RAB8B\", \"FAM209A\", \"APH1B\", \"APP\", \"USP8\", \"TLK2\", \"CTSW\", \"FIBP\", \"CCDC85B\", \"NOP58\", \"GNGT2\", \"ABI3\", \"TRIM4\", \"BMPR2\", \"OR5A2\", \"TREML1\", \"TAS2R60\", \"TAS2R41\", \"ZNF652\", \"AZGP1\", \"ACE\", \"ZKSCAN1\", \"TREM2\", \"PRL\", \"MVP\", \"ICA1L\", \"GIF\", \"MS4A3\", \"MS4A2\", \"MS4A6A\", \"ZNF3\", \"POLR2M\", \"MS4A4E\", \"COPS6\", \"ALDH1A2\", \"MS4A6E\", \"DYRK3\", \"MAPKAPK2\", \"UBE2G1\", \"TDRD6\", \"TMEM219\", \"CARF\", \"TAOK2\", \"PIGR\", \"SPNS3\", \"SLTM\", \"PFKFB2\", \"KCNN4\", \"MYO1E\", \"ANKRD66\", \"CD55\", \"DOC2A\", \"C16orf92\", \"FAM57B\", \"CR1\", \"NBEAL1\", \"CR1L\", \"AP4M1\", \"YPEL3\", \"AP1AR\", \"PVR\", \"CEACAM19\", \"CEACAM16\", \"BCL3\", \"CBLC\", \"BCAM\", \"PVRL2\", \"TOMM40\", \"APOE\", \"APOC1\", \"APOC4-APOC2\", \"APOC4\", \"APOC2\", \"CLPTM1\", \"LAMTOR4\", \"RELB\", \"CLASRP\", \"GAL3ST4\", \"MED11\", \"GPC2\", \"ZNF296\", \"GEMIN7\", \"MARK4\", \"TLN2\", \"MAMSTR\", \"PPP1R37\", \"NKPD1\", \"CKM\", \"STAG3\", \"ZNF764\", \"ZNF688\", \"AARS\", \"PRR14\", \"BIN1\", \"TM4SF5\", \"KLC3\", \"PSMB6\", \"ERCC2\", \"PPP1R13L\", \"SPRED1\", \"ERCC1\", \"RNF40\", \"PVRIG\", \"ZNF629\", \"SETD1A\", \"HSD3B7\", \"STX4\", \"PILRA\", \"ECEL1\", \"IL34\", \"C19orf83\", \"ZNF668\", \"ZNF646\", \"VAC14\", \"USP6NL\", \"QPCTL\", \"PRSS53\", \"CHRNE\", \"VKORC1\", \"GP1BA\", \"BCKDK\", \"KAT8\", \"EFHD1\", \"NYAP1\", \"DMWD\", \"RSPH6A\", \"PYCARD\", \"TMEM63A\", \"PYCR2\", \"ZNF843\", \"CAMTA2\", \"RASGEF1B\", \"INPP5D\", \"INCA1\", \"ZFP3\", \"ZNF232\", \"RNF43\", \"USP6\", \"BICC1\", \"SCIMP\", \"TMEM106B\", \"NUP88\", \"AJUBA\", \"ECSCR\", \"TRIM35\", \"TMEM259\", \"CNN2\", \"PTK2B\", \"ABCA7\", \"HMHA1\", \"EPHX2\", \"CLU\", \"RGS14\", \"SORL1\", \"DAZAP1\", \"CD33\", \"SRA1\", \"EIF4EBP3\", \"APBB3\", \"GALNT10\", \"ZNF841\", \"SAMHD1\", \"PSMC3\", \"VSTM2L\", \"NDUFS3\", \"PICALM\", \"LGALS16\", \"SLC24A4\", \"SH2D5\", \"EIF4G3\", \"ARPC1A\", \"ZNF394\", \"ZKSCAN5\", \"FAM200A\", \"ZNF655\", \"KLHDC9\", \"DEDD\", \"ADAMTS4\", \"FCER1G\", \"APOA2\", \"KIF21B\"]\n",
    "for gene_name in gene_names:\n",
    "    exps = [[], []]\n",
    "    for d in dataset:\n",
    "        _where = np.where(d['scRNA_head']==gene_name)[0]\n",
    "        if len(_where) == 0:\n",
    "            continue\n",
    "        exp = d['scRNA'][_where[0]]\n",
    "        if d['Diagnosis'] == 'AD':\n",
    "            exps[1].append(exp)\n",
    "        else:\n",
    "            exps[0].append(exp)\n",
    "    exps = np.array(exps)\n",
    "    _mean = exps.mean(axis=1)\n",
    "    if _mean[0] < 0.5 and _mean[1] < 0.5:\n",
    "        continue\n",
    "    print('{}: {}'.format(gene_name, exps))\n",
    "    "
   ]
  },
  {
   "cell_type": "code",
   "execution_count": null,
   "id": "21665250",
   "metadata": {},
   "outputs": [],
   "source": []
  },
  {
   "cell_type": "code",
   "execution_count": null,
   "id": "b1d9af60",
   "metadata": {},
   "outputs": [],
   "source": [
    "gene_name = 'BIN1'\n",
    "\n",
    "exps = []\n",
    "for d in np.load('/lmh_data/data/sclab/sclab/train_dataset.npy', allow_pickle=True):\n",
    "    if d['cell_type'] != 'ODC':\n",
    "        continue\n",
    "    exp = d['scRNA'][np.where(d['scRNA_head']==gene_name)[0][0]]\n",
    "    exps.append(exp)\n",
    "exps = np.array(exps)\n",
    "# exps[exps>0].shape\n",
    "plt.boxplot(exps)"
   ]
  }
 ],
 "metadata": {
  "kernelspec": {
   "display_name": "sclab",
   "language": "python",
   "name": "sclab"
  },
  "language_info": {
   "codemirror_mode": {
    "name": "ipython",
    "version": 3
   },
   "file_extension": ".py",
   "mimetype": "text/x-python",
   "name": "python",
   "nbconvert_exporter": "python",
   "pygments_lexer": "ipython3",
   "version": "3.8.13"
  }
 },
 "nbformat": 4,
 "nbformat_minor": 5
}
