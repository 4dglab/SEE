{
 "cells": [
  {
   "cell_type": "code",
   "execution_count": 1,
   "id": "101587c6",
   "metadata": {},
   "outputs": [],
   "source": [
    "import anndata\n",
    "import scanpy as sc\n",
    "import numpy as np\n",
    "import pandas as pd\n",
    "\n",
    "from matplotlib.pyplot import rc_context"
   ]
  },
  {
   "cell_type": "code",
   "execution_count": 2,
   "id": "14ca8c5c",
   "metadata": {},
   "outputs": [
    {
     "data": {
      "text/plain": [
       "View of AnnData object with n_obs × n_vars = 44548 × 36114\n",
       "    obs: 'Sample.ID', 'Batch', 'Sex', 'Age', 'Diagnosis', 'UMAP_1', 'UMAP_2', 'cluster', 'celltype'"
      ]
     },
     "execution_count": 2,
     "metadata": {},
     "output_type": "execute_result"
    }
   ],
   "source": [
    "adata = sc.read('/lmh_data/data/sclab/syn22092838/snRNA_counts.mtx')\n",
    "genes = pd.read_csv('/lmh_data/data/sclab/syn22092838/genes.csv', header=None)\n",
    "scRNA_metadata = pd.read_csv('/lmh_data/data/sclab/syn22092838/snRNA_metadta.csv', index_col=0)\n",
    "\n",
    "adata.obs_names = genes.values.reshape(-1)\n",
    "adata.var = scRNA_metadata\n",
    "adata = adata.T\n",
    "\n",
    "adata = adata[adata.obs[adata.obs['celltype'].isin(['ASC', 'OPC', 'ODC'])].index,:]\n",
    "# adata.obs.celltype = adata.obs.celltype.cat.rename_categories({'ASC': 'Astro'})\n",
    "adata"
   ]
  },
  {
   "cell_type": "code",
   "execution_count": 3,
   "id": "e703b591",
   "metadata": {},
   "outputs": [],
   "source": [
    "train_set = np.load('/lmh_data/data/sclab/sclab/train_dataset.npy', allow_pickle=True)\n",
    "scRNA_head = train_set[0]['scRNA_head']"
   ]
  },
  {
   "cell_type": "code",
   "execution_count": 4,
   "id": "29f5e109",
   "metadata": {},
   "outputs": [],
   "source": [
    "gene_names = set(scRNA_head) & set(adata.var_names)\n",
    "np.save('/lmh_data/data/sclab/sclab/AD/filter_genes.npy', np.array(gene_names))"
   ]
  },
  {
   "cell_type": "code",
   "execution_count": 5,
   "id": "0dcc1f3c",
   "metadata": {},
   "outputs": [
    {
     "data": {
      "text/plain": [
       "View of AnnData object with n_obs × n_vars = 3793 × 50281\n",
       "    obs: 'cell_type', 'domain'"
      ]
     },
     "execution_count": 5,
     "metadata": {},
     "output_type": "execute_result"
    }
   ],
   "source": [
    "rna = anndata.read_h5ad(\"/lmh_data/data/sclab/Human_M1_10x/scRNA.h5ad\")\n",
    "rna.obs.cell_type = rna.obs.cell_type.cat.rename_categories({'Oligo': 'ODC'})\n",
    "rna = rna[rna.obs['cell_type'].isin(['Astro', 'OPC', 'ODC']),:]\n",
    "rna"
   ]
  },
  {
   "cell_type": "code",
   "execution_count": 6,
   "id": "bb20fd75",
   "metadata": {},
   "outputs": [],
   "source": [
    "def rna_pca(rna):\n",
    "    rna.X = rna.layers[\"counts\"].copy()\n",
    "    sc.pp.highly_variable_genes(rna, n_top_genes=2000, flavor=\"seurat_v3\")\n",
    "    sc.pp.normalize_total(rna)\n",
    "    sc.pp.log1p(rna)\n",
    "    sc.pp.scale(rna)\n",
    "    sc.tl.pca(rna, n_comps=100, svd_solver=\"auto\")\n",
    "\n",
    "    sc.pp.neighbors(rna, metric=\"cosine\")\n",
    "    sc.tl.umap(rna)\n",
    "    sc.tl.leiden(rna)"
   ]
  },
  {
   "cell_type": "code",
   "execution_count": 7,
   "id": "e0f868e8",
   "metadata": {},
   "outputs": [],
   "source": [
    "_rna = rna[:, list(gene_names)].copy()\n",
    "_adata = adata[:, list(gene_names)].copy()\n",
    "# _adata = _adata[_adata.obs[_adata.obs['Diagnosis'] == 'Control'].index, :]\n",
    "\n",
    "_adata.obs.loc[:, 'cell_type'] = _adata.obs.celltype\n",
    "_rna.obs.loc[:, 'Diagnosis'] = 'Control'\n",
    "_rna.obs.loc[:, 'category'] = 'control'\n",
    "_adata.obs.loc[:, 'category'] = 'AD'"
   ]
  },
  {
   "cell_type": "code",
   "execution_count": 8,
   "id": "629ded0d",
   "metadata": {},
   "outputs": [
    {
     "name": "stdout",
     "output_type": "stream",
     "text": [
      "Found 20144 genes among all datasets\n",
      "[[0.         0.88795149]\n",
      " [0.         0.        ]]\n",
      "Processing datasets (0, 1)\n"
     ]
    },
    {
     "name": "stderr",
     "output_type": "stream",
     "text": [
      "/root/miniconda3/envs/scalex/lib/python3.8/site-packages/scanorama/scanorama.py:237: FutureWarning: X.dtype being converted to np.float32 from float64. In the next version of anndata (0.9) conversion will not be automatic. Pass dtype explicitly to avoid this warning. Pass `AnnData(X, dtype=X.dtype, ...)` to get the future behavour.\n",
      "  adata = AnnData(datasets[i])\n"
     ]
    },
    {
     "data": {
      "text/plain": [
       "[AnnData object with n_obs × n_vars = 3793 × 20144\n",
       "     obs: 'cell_type', 'domain', 'Diagnosis', 'category'\n",
       "     obsm: 'X_scanorama',\n",
       " AnnData object with n_obs × n_vars = 44548 × 20144\n",
       "     obs: 'Sample.ID', 'Batch', 'Sex', 'Age', 'Diagnosis', 'UMAP_1', 'UMAP_2', 'cluster', 'celltype', 'cell_type', 'category'\n",
       "     obsm: 'X_scanorama']"
      ]
     },
     "execution_count": 8,
     "metadata": {},
     "output_type": "execute_result"
    }
   ],
   "source": [
    "import scanorama\n",
    "_combine = scanorama.correct_scanpy([_rna, _adata], return_dimred=True)\n",
    "_combine"
   ]
  },
  {
   "cell_type": "code",
   "execution_count": 19,
   "id": "7236153b",
   "metadata": {},
   "outputs": [
    {
     "data": {
      "text/plain": [
       "array([[0., 0., 0., ..., 0., 0., 0.],\n",
       "       [0., 0., 0., ..., 0., 0., 0.],\n",
       "       [0., 0., 0., ..., 0., 0., 0.],\n",
       "       ...,\n",
       "       [0., 0., 0., ..., 0., 0., 1.],\n",
       "       [0., 0., 0., ..., 0., 0., 0.],\n",
       "       [0., 0., 0., ..., 0., 0., 0.]], dtype=float32)"
      ]
     },
     "execution_count": 19,
     "metadata": {},
     "output_type": "execute_result"
    }
   ],
   "source": [
    "_rna.X"
   ]
  },
  {
   "cell_type": "code",
   "execution_count": 21,
   "id": "bd060bb5",
   "metadata": {
    "scrolled": false
   },
   "outputs": [
    {
     "data": {
      "text/plain": [
       "array([[-1.9158385e-04,  1.0845234e-04, -1.5628726e-06, ...,\n",
       "         5.6502991e-05, -4.5109562e-05,  6.5224263e-04],\n",
       "       [-1.9265388e-04,  1.1382904e-04, -2.3168375e-06, ...,\n",
       "         6.4990956e-05, -3.1886459e-05,  2.9698350e-03],\n",
       "       [-1.6441097e-04,  7.8217083e-05, -1.9157599e-06, ...,\n",
       "         6.4019288e-05, -2.9461862e-05,  6.2647217e-04],\n",
       "       ...,\n",
       "       [-1.9328964e-04,  1.1335802e-04, -8.4863723e-07, ...,\n",
       "         3.0492058e-03, -5.8678357e-05,  6.5309752e-04],\n",
       "       [-1.8978630e-04,  9.7540709e-05,  3.5983652e-07, ...,\n",
       "         6.4111911e-05, -6.1675171e-05,  8.1646937e-04],\n",
       "       [-1.9666333e-04,  1.1344179e-04, -8.4231391e-07, ...,\n",
       "         4.0816816e-05, -5.6449182e-05,  7.8291129e-03]], dtype=float32)"
      ]
     },
     "execution_count": 21,
     "metadata": {},
     "output_type": "execute_result"
    }
   ],
   "source": [
    "_combine[0].X.toarray()"
   ]
  },
  {
   "cell_type": "code",
   "execution_count": 25,
   "id": "c6193078",
   "metadata": {},
   "outputs": [
    {
     "data": {
      "text/plain": [
       "array([[ 0.04195746,  0.09063238, -0.0047397 , ...,  0.01147386,\n",
       "         0.00190099,  0.00195387],\n",
       "       [-0.13169012,  0.23028693,  0.0530308 , ...,  0.00415152,\n",
       "         0.01534598, -0.00530411],\n",
       "       [-0.18655597,  0.02258294,  0.05581256, ..., -0.02383893,\n",
       "         0.01660524, -0.00374544],\n",
       "       ...,\n",
       "       [ 0.22910912, -0.11740401, -0.22209272, ..., -0.01148135,\n",
       "        -0.00640589,  0.00672929],\n",
       "       [ 0.20079893, -0.10042473,  0.07463531, ...,  0.01512926,\n",
       "         0.00322322,  0.01235884],\n",
       "       [ 0.22203792, -0.068517  , -0.07283686, ..., -0.00058348,\n",
       "         0.00656775, -0.00127542]])"
      ]
     },
     "execution_count": 25,
     "metadata": {},
     "output_type": "execute_result"
    }
   ],
   "source": [
    "_combine[0].obsm['X_scanorama']"
   ]
  },
  {
   "cell_type": "code",
   "execution_count": 30,
   "id": "0e0c2d1c",
   "metadata": {},
   "outputs": [
    {
     "name": "stderr",
     "output_type": "stream",
     "text": [
      "/root/miniconda3/envs/scalex/lib/python3.8/site-packages/scanpy/preprocessing/_highly_variable_genes.py:62: UserWarning: `flavor='seurat_v3'` expects raw count data, but non-integers were found.\n",
      "  warnings.warn(\n",
      "/root/miniconda3/envs/scalex/lib/python3.8/site-packages/scanpy/preprocessing/_highly_variable_genes.py:83: RuntimeWarning: invalid value encountered in log10\n",
      "  x = np.log10(mean[not_const])\n"
     ]
    },
    {
     "ename": "ValueError",
     "evalue": "b'Extrapolation not allowed with blending'",
     "output_type": "error",
     "traceback": [
      "\u001b[0;31m---------------------------------------------------------------------------\u001b[0m",
      "\u001b[0;31mValueError\u001b[0m                                Traceback (most recent call last)",
      "Cell \u001b[0;32mIn [30], line 4\u001b[0m\n\u001b[1;32m      1\u001b[0m _test \u001b[38;5;241m=\u001b[39m anndata\u001b[38;5;241m.\u001b[39mconcat(_combine)\u001b[38;5;241m.\u001b[39mcopy()\n\u001b[1;32m      2\u001b[0m _test\u001b[38;5;241m.\u001b[39mlayers[\u001b[38;5;124m\"\u001b[39m\u001b[38;5;124mcounts\u001b[39m\u001b[38;5;124m\"\u001b[39m] \u001b[38;5;241m=\u001b[39m _test\u001b[38;5;241m.\u001b[39mX\u001b[38;5;241m.\u001b[39mcopy()\n\u001b[0;32m----> 4\u001b[0m \u001b[43mrna_pca\u001b[49m\u001b[43m(\u001b[49m\u001b[43m_test\u001b[49m\u001b[43m)\u001b[49m\n\u001b[1;32m      6\u001b[0m \u001b[38;5;28;01mwith\u001b[39;00m rc_context({\u001b[38;5;124m'\u001b[39m\u001b[38;5;124mfigure.figsize\u001b[39m\u001b[38;5;124m'\u001b[39m: (\u001b[38;5;241m5\u001b[39m, \u001b[38;5;241m5\u001b[39m)}):\n\u001b[1;32m      7\u001b[0m     sc\u001b[38;5;241m.\u001b[39mpl\u001b[38;5;241m.\u001b[39mumap(_test, color\u001b[38;5;241m=\u001b[39m[\u001b[38;5;124m'\u001b[39m\u001b[38;5;124mDiagnosis\u001b[39m\u001b[38;5;124m'\u001b[39m, \u001b[38;5;124m'\u001b[39m\u001b[38;5;124mcell_type\u001b[39m\u001b[38;5;124m'\u001b[39m, \u001b[38;5;124m'\u001b[39m\u001b[38;5;124mcategory\u001b[39m\u001b[38;5;124m'\u001b[39m], add_outline\u001b[38;5;241m=\u001b[39m\u001b[38;5;28;01mTrue\u001b[39;00m, legend_loc\u001b[38;5;241m=\u001b[39m\u001b[38;5;124m'\u001b[39m\u001b[38;5;124mon data\u001b[39m\u001b[38;5;124m'\u001b[39m,\n\u001b[1;32m      8\u001b[0m                legend_fontsize\u001b[38;5;241m=\u001b[39m\u001b[38;5;241m12\u001b[39m, legend_fontoutline\u001b[38;5;241m=\u001b[39m\u001b[38;5;241m2\u001b[39m, frameon\u001b[38;5;241m=\u001b[39m\u001b[38;5;28;01mFalse\u001b[39;00m, palette\u001b[38;5;241m=\u001b[39m\u001b[38;5;124m'\u001b[39m\u001b[38;5;124mSet1\u001b[39m\u001b[38;5;124m'\u001b[39m)\n",
      "Cell \u001b[0;32mIn [6], line 3\u001b[0m, in \u001b[0;36mrna_pca\u001b[0;34m(rna)\u001b[0m\n\u001b[1;32m      1\u001b[0m \u001b[38;5;28;01mdef\u001b[39;00m \u001b[38;5;21mrna_pca\u001b[39m(rna):\n\u001b[1;32m      2\u001b[0m     rna\u001b[38;5;241m.\u001b[39mX \u001b[38;5;241m=\u001b[39m rna\u001b[38;5;241m.\u001b[39mlayers[\u001b[38;5;124m\"\u001b[39m\u001b[38;5;124mcounts\u001b[39m\u001b[38;5;124m\"\u001b[39m]\u001b[38;5;241m.\u001b[39mcopy()\n\u001b[0;32m----> 3\u001b[0m     \u001b[43msc\u001b[49m\u001b[38;5;241;43m.\u001b[39;49m\u001b[43mpp\u001b[49m\u001b[38;5;241;43m.\u001b[39;49m\u001b[43mhighly_variable_genes\u001b[49m\u001b[43m(\u001b[49m\u001b[43mrna\u001b[49m\u001b[43m,\u001b[49m\u001b[43m \u001b[49m\u001b[43mn_top_genes\u001b[49m\u001b[38;5;241;43m=\u001b[39;49m\u001b[38;5;241;43m2000\u001b[39;49m\u001b[43m,\u001b[49m\u001b[43m \u001b[49m\u001b[43mflavor\u001b[49m\u001b[38;5;241;43m=\u001b[39;49m\u001b[38;5;124;43m\"\u001b[39;49m\u001b[38;5;124;43mseurat_v3\u001b[39;49m\u001b[38;5;124;43m\"\u001b[39;49m\u001b[43m)\u001b[49m\n\u001b[1;32m      4\u001b[0m     sc\u001b[38;5;241m.\u001b[39mpp\u001b[38;5;241m.\u001b[39mnormalize_total(rna)\n\u001b[1;32m      5\u001b[0m     sc\u001b[38;5;241m.\u001b[39mpp\u001b[38;5;241m.\u001b[39mlog1p(rna)\n",
      "File \u001b[0;32m~/miniconda3/envs/scalex/lib/python3.8/site-packages/scanpy/preprocessing/_highly_variable_genes.py:422\u001b[0m, in \u001b[0;36mhighly_variable_genes\u001b[0;34m(adata, layer, n_top_genes, min_disp, max_disp, min_mean, max_mean, span, n_bins, flavor, subset, inplace, batch_key, check_values)\u001b[0m\n\u001b[1;32m    416\u001b[0m     \u001b[38;5;28;01mraise\u001b[39;00m \u001b[38;5;167;01mValueError\u001b[39;00m(\n\u001b[1;32m    417\u001b[0m         \u001b[38;5;124m'\u001b[39m\u001b[38;5;124m`pp.highly_variable_genes` expects an `AnnData` argument, \u001b[39m\u001b[38;5;124m'\u001b[39m\n\u001b[1;32m    418\u001b[0m         \u001b[38;5;124m'\u001b[39m\u001b[38;5;124mpass `inplace=False` if you want to return a `pd.DataFrame`.\u001b[39m\u001b[38;5;124m'\u001b[39m\n\u001b[1;32m    419\u001b[0m     )\n\u001b[1;32m    421\u001b[0m \u001b[38;5;28;01mif\u001b[39;00m flavor \u001b[38;5;241m==\u001b[39m \u001b[38;5;124m'\u001b[39m\u001b[38;5;124mseurat_v3\u001b[39m\u001b[38;5;124m'\u001b[39m:\n\u001b[0;32m--> 422\u001b[0m     \u001b[38;5;28;01mreturn\u001b[39;00m \u001b[43m_highly_variable_genes_seurat_v3\u001b[49m\u001b[43m(\u001b[49m\n\u001b[1;32m    423\u001b[0m \u001b[43m        \u001b[49m\u001b[43madata\u001b[49m\u001b[43m,\u001b[49m\n\u001b[1;32m    424\u001b[0m \u001b[43m        \u001b[49m\u001b[43mlayer\u001b[49m\u001b[38;5;241;43m=\u001b[39;49m\u001b[43mlayer\u001b[49m\u001b[43m,\u001b[49m\n\u001b[1;32m    425\u001b[0m \u001b[43m        \u001b[49m\u001b[43mn_top_genes\u001b[49m\u001b[38;5;241;43m=\u001b[39;49m\u001b[43mn_top_genes\u001b[49m\u001b[43m,\u001b[49m\n\u001b[1;32m    426\u001b[0m \u001b[43m        \u001b[49m\u001b[43mbatch_key\u001b[49m\u001b[38;5;241;43m=\u001b[39;49m\u001b[43mbatch_key\u001b[49m\u001b[43m,\u001b[49m\n\u001b[1;32m    427\u001b[0m \u001b[43m        \u001b[49m\u001b[43mcheck_values\u001b[49m\u001b[38;5;241;43m=\u001b[39;49m\u001b[43mcheck_values\u001b[49m\u001b[43m,\u001b[49m\n\u001b[1;32m    428\u001b[0m \u001b[43m        \u001b[49m\u001b[43mspan\u001b[49m\u001b[38;5;241;43m=\u001b[39;49m\u001b[43mspan\u001b[49m\u001b[43m,\u001b[49m\n\u001b[1;32m    429\u001b[0m \u001b[43m        \u001b[49m\u001b[43msubset\u001b[49m\u001b[38;5;241;43m=\u001b[39;49m\u001b[43msubset\u001b[49m\u001b[43m,\u001b[49m\n\u001b[1;32m    430\u001b[0m \u001b[43m        \u001b[49m\u001b[43minplace\u001b[49m\u001b[38;5;241;43m=\u001b[39;49m\u001b[43minplace\u001b[49m\u001b[43m,\u001b[49m\n\u001b[1;32m    431\u001b[0m \u001b[43m    \u001b[49m\u001b[43m)\u001b[49m\n\u001b[1;32m    433\u001b[0m \u001b[38;5;28;01mif\u001b[39;00m batch_key \u001b[38;5;129;01mis\u001b[39;00m \u001b[38;5;28;01mNone\u001b[39;00m:\n\u001b[1;32m    434\u001b[0m     df \u001b[38;5;241m=\u001b[39m _highly_variable_genes_single_batch(\n\u001b[1;32m    435\u001b[0m         adata,\n\u001b[1;32m    436\u001b[0m         layer\u001b[38;5;241m=\u001b[39mlayer,\n\u001b[0;32m   (...)\u001b[0m\n\u001b[1;32m    443\u001b[0m         flavor\u001b[38;5;241m=\u001b[39mflavor,\n\u001b[1;32m    444\u001b[0m     )\n",
      "File \u001b[0;32m~/miniconda3/envs/scalex/lib/python3.8/site-packages/scanpy/preprocessing/_highly_variable_genes.py:85\u001b[0m, in \u001b[0;36m_highly_variable_genes_seurat_v3\u001b[0;34m(adata, layer, n_top_genes, batch_key, check_values, span, subset, inplace)\u001b[0m\n\u001b[1;32m     83\u001b[0m x \u001b[38;5;241m=\u001b[39m np\u001b[38;5;241m.\u001b[39mlog10(mean[not_const])\n\u001b[1;32m     84\u001b[0m model \u001b[38;5;241m=\u001b[39m loess(x, y, span\u001b[38;5;241m=\u001b[39mspan, degree\u001b[38;5;241m=\u001b[39m\u001b[38;5;241m2\u001b[39m)\n\u001b[0;32m---> 85\u001b[0m \u001b[43mmodel\u001b[49m\u001b[38;5;241;43m.\u001b[39;49m\u001b[43mfit\u001b[49m\u001b[43m(\u001b[49m\u001b[43m)\u001b[49m\n\u001b[1;32m     86\u001b[0m estimat_var[not_const] \u001b[38;5;241m=\u001b[39m model\u001b[38;5;241m.\u001b[39moutputs\u001b[38;5;241m.\u001b[39mfitted_values\n\u001b[1;32m     87\u001b[0m reg_std \u001b[38;5;241m=\u001b[39m np\u001b[38;5;241m.\u001b[39msqrt(\u001b[38;5;241m10\u001b[39m\u001b[38;5;241m*\u001b[39m\u001b[38;5;241m*\u001b[39mestimat_var)\n",
      "File \u001b[0;32m_loess.pyx:899\u001b[0m, in \u001b[0;36m_loess.loess.fit\u001b[0;34m()\u001b[0m\n",
      "\u001b[0;31mValueError\u001b[0m: b'Extrapolation not allowed with blending'"
     ]
    }
   ],
   "source": [
    "_test = anndata.concat(_combine).copy()\n",
    "_test.layers[\"counts\"] = _test.X.copy()\n",
    "\n",
    "rna_pca(_test)\n",
    "\n",
    "with rc_context({'figure.figsize': (5, 5)}):\n",
    "    sc.pl.umap(_test, color=['Diagnosis', 'cell_type', 'category'], add_outline=True, legend_loc='on data',\n",
    "               legend_fontsize=12, legend_fontoutline=2, frameon=False, palette='Set1')"
   ]
  },
  {
   "cell_type": "code",
   "execution_count": 28,
   "id": "f9dc2c56",
   "metadata": {},
   "outputs": [
    {
     "data": {
      "text/plain": [
       "AnnData object with n_obs × n_vars = 48341 × 20144\n",
       "    obs: 'cell_type', 'Diagnosis', 'category'\n",
       "    obsm: 'X_scanorama'\n",
       "    layers: 'counts'"
      ]
     },
     "execution_count": 28,
     "metadata": {},
     "output_type": "execute_result"
    }
   ],
   "source": [
    "_test"
   ]
  },
  {
   "cell_type": "code",
   "execution_count": null,
   "id": "b5b97684",
   "metadata": {},
   "outputs": [],
   "source": [
    "_combine"
   ]
  },
  {
   "cell_type": "code",
   "execution_count": null,
   "id": "47441eeb",
   "metadata": {},
   "outputs": [],
   "source": [
    "_combine.layers[\"counts\"] = _combine.X.copy()\n",
    "\n",
    "rna_pca(_combine)\n",
    "with rc_context({'figure.figsize': (5, 5)}):\n",
    "    sc.pl.umap(_combine, color=['leiden', 'cell_type', 'category'], add_outline=True, legend_loc='on data',\n",
    "               legend_fontsize=12, legend_fontoutline=2, frameon=False, palette='Set1')"
   ]
  },
  {
   "cell_type": "code",
   "execution_count": null,
   "id": "1f24667c",
   "metadata": {},
   "outputs": [],
   "source": []
  },
  {
   "cell_type": "code",
   "execution_count": null,
   "id": "71c1aa04",
   "metadata": {},
   "outputs": [],
   "source": [
    "_rna = rna[:, list(gene_names)].copy()\n",
    "_adata = adata[:, list(gene_names)].copy()\n",
    "_adata = _adata[_adata.obs[_adata.obs['Diagnosis'] == 'Control'].index, :]\n",
    "\n",
    "_adata.obs.loc[:, 'cell_type'] = _adata.obs.celltype\n",
    "_rna.obs.loc[:, 'category'] = 'control'\n",
    "_adata.obs.loc[:, 'category'] = 'AD'\n",
    "\n",
    "# _proportion = _rna.X.max() / _adata.X.max()\n",
    "# print(_proportion)\n",
    "# _adata.X *= _proportion\n",
    "# _adata.X = np.around(_adata.X.toarray()).astype(np.int32)\n",
    "\n",
    "_combine = anndata.concat([_rna, _adata])\n",
    "_combine.layers[\"counts\"] = _combine.X.copy()\n",
    "\n",
    "rna_pca(_combine)\n",
    "with rc_context({'figure.figsize': (5, 5)}):\n",
    "    sc.pl.umap(_combine, color=['leiden', 'cell_type', 'category'], add_outline=True, legend_loc='on data',\n",
    "               legend_fontsize=12, legend_fontoutline=2, frameon=False, palette='Set1')"
   ]
  },
  {
   "cell_type": "code",
   "execution_count": null,
   "id": "3c00976f",
   "metadata": {},
   "outputs": [],
   "source": [
    "_rna = rna[:, list(gene_names)]\n",
    "_adata = adata[:, list(gene_names)]\n",
    "\n",
    "_adata.obs.loc[:, 'cell_type'] = _adata.obs.celltype\n",
    "_rna.obs.loc[:, 'category'] = 'control'\n",
    "_adata.obs.loc[:, 'category'] = 'AD'\n",
    "\n",
    "_combine = anndata.concat([_rna, _adata])\n",
    "_combine.layers[\"counts\"] = _combine.X.copy()\n",
    "\n",
    "rna_pca(_combine)\n",
    "with rc_context({'figure.figsize': (5, 5)}):\n",
    "    sc.pl.umap(_combine, color=['leiden', 'cell_type', 'category'], add_outline=True, legend_loc='on data',\n",
    "               legend_fontsize=12, legend_fontoutline=2, frameon=False, palette='Set1')"
   ]
  },
  {
   "cell_type": "code",
   "execution_count": null,
   "id": "4c12e11c",
   "metadata": {},
   "outputs": [],
   "source": [
    "_con = pd.DataFrame(_combine.obsp['connectivities'].toarray(), columns=_combine.obs_names, index=_combine.obs_names)\n",
    "_con = _con.loc[\n",
    "    _combine.obs[_combine.obs['category']=='control'].index,\n",
    "    _combine.obs[_combine.obs['category']=='AD'].index\n",
    "]\n",
    "\n",
    "_con = _con[(_con.T != 0).any()].T\n",
    "_con = _con[(_con.T != 0).any()].T\n",
    "_con"
   ]
  },
  {
   "cell_type": "code",
   "execution_count": null,
   "id": "53064b6d",
   "metadata": {},
   "outputs": [],
   "source": [
    "_dataset = []\n",
    "for AD_case in _con.columns:\n",
    "    _dataset.append({\n",
    "        'scRNA': adata[AD_case, list(gene_names)].X.toarray()[0].astype(np.int32),\n",
    "        'scRNA_head': adata[AD_case, list(gene_names)].var_names,\n",
    "        'cell_type': adata[AD_case, list(gene_names)].obs['celltype'].values[0],\n",
    "    })\n",
    "np.save('/lmh_data/data/sclab/sclab/AD/eval_dataset.npy', _dataset)"
   ]
  }
 ],
 "metadata": {
  "kernelspec": {
   "display_name": "scalex",
   "language": "python",
   "name": "scalex"
  },
  "language_info": {
   "codemirror_mode": {
    "name": "ipython",
    "version": 3
   },
   "file_extension": ".py",
   "mimetype": "text/x-python",
   "name": "python",
   "nbconvert_exporter": "python",
   "pygments_lexer": "ipython3",
   "version": "3.8.13"
  }
 },
 "nbformat": 4,
 "nbformat_minor": 5
}
