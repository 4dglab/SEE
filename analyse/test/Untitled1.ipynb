{
 "cells": [
  {
   "cell_type": "code",
   "execution_count": 1,
   "id": "fa06e680",
   "metadata": {},
   "outputs": [],
   "source": [
    "import os\n",
    "import json\n",
    "import requests"
   ]
  },
  {
   "cell_type": "code",
   "execution_count": 2,
   "id": "5c654372",
   "metadata": {},
   "outputs": [],
   "source": [
    "root_url = 'http://neomorph.salk.edu/aj2/tracks/hchen/human_brain'\n",
    "CTCF_url = os.path.join(root_url, 'CTCF.php')\n",
    "Astro_url = os.path.join(root_url, 'mC', 'Astro.php')\n",
    "Endo_url = os.path.join(root_url, 'mC', 'Endo.php')\n",
    "OPC_url = os.path.join(root_url, 'mC', 'OPC.php')\n",
    "ODC_url = os.path.join(root_url, 'mC', 'ODC.php')"
   ]
  },
  {
   "cell_type": "code",
   "execution_count": 9,
   "id": "6201a693",
   "metadata": {},
   "outputs": [
    {
     "name": "stdout",
     "output_type": "stream",
     "text": [
      "{\"success\":false,\"message\":\"Illegal access. A valid action must be specified\"}\n"
     ]
    }
   ],
   "source": [
    "def post(url):\n",
    "    data = {\n",
    "        \"action\": \"range\",\n",
    "        \"assembly\": 2,\n",
    "        \"left\": 199000000,\n",
    "        \"right\": 199999999,\n",
    "        \"bases\": 100,\n",
    "        \"pixels\": 1,\n",
    "        \"action2\": \"\",\n",
    "        \"tracktype\": \"MethTrack\",\n",
    "        \"table\": \"OPC\",\n",
    "    }\n",
    "    req = requests.post(url, data=json.dumps(data))\n",
    "    print(req.text)\n",
    "post(OPC_url)"
   ]
  },
  {
   "cell_type": "code",
   "execution_count": null,
   "id": "19260e6c",
   "metadata": {},
   "outputs": [],
   "source": []
  },
  {
   "cell_type": "code",
   "execution_count": null,
   "id": "1f2d2a08",
   "metadata": {},
   "outputs": [],
   "source": [
    "\n",
    "import json\n",
    "import uuid\n",
    "url = \"https://voice-bj-1251671073.cos.ap-beijing.myqcloud.com/20201105/34983567e968d7891427a7eae0d9f174.mp3\"\n",
    "accesskey = \"4Ky6AV4hE0pWLeG1bXNw\"\n",
    "appId = \"default\"\n",
    "Type = \"POLITICAL_PORN_AD_GENDER_TIMBRE_ABUSE_SING_LANGUAGE_MOAN\"\n",
    "callback = \"http://xxxxx:8900/\"\n",
    "#IP = \"http://10.141.56.227/v2/saas/anti_fraud/audio\"\n",
    " \n",
    "def pre():\n",
    "    saalurl = 'http://xxxxxx/v2/xxxxx/xxxxx/audio'\n",
    "    data = {\n",
    "        \"accessKey\":accesskey,\n",
    "        \"type\":\"POLITICAL_PORN_AD_GENDER_TIMBRE_ABUSE_SING_LANGUAGE_MOAN\",\n",
    "        \"btid\": str(uuid.uuid4()),\n",
    "        \"callback\": \"http://188.131.184.220:8900/\",\n",
    "        \"appid\": \"default\",\n",
    "        \"data\": {\n",
    "            \"channel\": \"audio\",\n",
    "            \"returnAllText\":True,\n",
    "            \"url\":url\n",
    "        }\n",
    "    }\n",
    "    req = requests.post(saalurl,data=json.dumps(data))  # 发post请求,以json字符串参数格式\n",
    "    print(req.text)\n",
    " \n",
    " \n",
    "if __name__ == \"__main__\":\n",
    "    pre();"
   ]
  }
 ],
 "metadata": {
  "kernelspec": {
   "display_name": "sclab",
   "language": "python",
   "name": "sclab"
  },
  "language_info": {
   "codemirror_mode": {
    "name": "ipython",
    "version": 3
   },
   "file_extension": ".py",
   "mimetype": "text/x-python",
   "name": "python",
   "nbconvert_exporter": "python",
   "pygments_lexer": "ipython3",
   "version": "3.8.13"
  }
 },
 "nbformat": 4,
 "nbformat_minor": 5
}
