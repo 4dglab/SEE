{
 "cells": [
  {
   "cell_type": "code",
   "execution_count": 1,
   "id": "9f0241cc",
   "metadata": {},
   "outputs": [],
   "source": [
    "import numpy as np\n",
    "import pandas as pd\n",
    "import seaborn as sns\n",
    "from Bio.PDB import *\n",
    "from scipy.spatial import ConvexHull"
   ]
  },
  {
   "cell_type": "code",
   "execution_count": 13,
   "id": "29b23374",
   "metadata": {},
   "outputs": [],
   "source": [
    "p = PDBParser()\n",
    "\n",
    "def cal_volume(pdb_path):\n",
    "    structure = p.get_structure('input', pdb_path)\n",
    "    CA_coord = []\n",
    "    for model in structure:\n",
    "        for chain in model:\n",
    "            for residue in chain:\n",
    "                _vector = residue['CA'].get_vector()\n",
    "                CA_coord.append([_vector[0], _vector[1], _vector[2]])\n",
    "    \n",
    "    points = np.array(CA_coord)\n",
    "    print(CA_coord)\n",
    "    volume = ConvexHull(points).volume\n",
    "    return volume"
   ]
  },
  {
   "cell_type": "code",
   "execution_count": 14,
   "id": "3d4c1a9d",
   "metadata": {},
   "outputs": [
    {
     "name": "stdout",
     "output_type": "stream",
     "text": [
      "[[-5.038000106811523, 1.715999960899353, -8.680999755859375], [-4.11899995803833, 6.169000148773193, -5.11899995803833], [-4.388000011444092, -0.9279999732971191, -2.388000011444092], [-4.354000091552734, -1.940999984741211, 1.5180000066757202], [-1.7139999866485596, -6.7789998054504395, 2.371999979019165], [-3.9579999446868896, -9.057000160217285, 2.9660000801086426], [-4.6529998779296875, -6.116000175476074, -0.36800000071525574], [-3.13100004196167, 0.06599999964237213, 0.6819999814033508], [0.46700000762939453, -1.559000015258789, -4.446000099182129], [4.863999843597412, -4.8429999351501465, -2.802999973297119], [5.882999897003174, -1.0729999542236328, 2.3289999961853027], [4.749000072479248, 0.4909999966621399, -2.9049999713897705], [7.992000102996826, 3.125, -3.6050000190734863], [5.105000019073486, 6.670000076293945, -0.7080000042915344], [2.0889999866485596, 5.248000144958496, 2.1050000190734863], [4.309999942779541, 6.116000175476074, 5.943999767303467], [0.9950000047683716, 2.2769999504089355, 9.053999900817871]]\n",
      "[[-1.9620000123977661, -2.000999927520752, 4.7829999923706055], [-0.703000009059906, 0.6620000004768372, 5.563000202178955], [-1.850000023841858, 3.8459999561309814, 5.663000106811523], [-3.2160000801086426, 3.7899999618530273, 2.069999933242798], [-7.416999816894531, 2.9549999237060547, 0.07500000298023224], [-9.57699966430664, 6.875999927520752, 1.9229999780654907], [-8.762999534606934, 2.5810000896453857, 3.0369999408721924], [-4.433000087738037, 0.7850000262260437, 2.009000062942505], [3.0329999923706055, 1.340000033378601, 2.555999994277954], [5.136000156402588, 3.384000062942505, 0.2669999897480011], [1.3969999551773071, 2.2679998874664307, -2.500999927520752], [0.03500000014901161, -4.875, -2.0480000972747803], [4.684999942779541, -5.36899995803833, -0.13099999725818634], [7.144000053405762, -3.73799991607666, -1.784000039100647], [7.900000095367432, -3.5950000286102295, -5.567999839782715], [4.4710001945495605, 0.2800000011920929, -7.386000156402588], [2.1659998893737793, -3.384000062942505, -7.335999965667725]]\n",
      "[[-8.003999710083008, -4.442999839782715, 1.7699999809265137], [-4.916999816894531, -2.63100004196167, -1.902999997138977], [-7.144999980926514, -2.7660000324249268, -5.218999862670898], [-3.8380000591278076, 4.473999977111816, -5.5879998207092285], [-5.855000019073486, 5.665999889373779, -1.6490000486373901], [-1.0440000295639038, 4.331999778747559, 5.060999870300293], [-5.435999870300293, 2.936000108718872, 3.1679999828338623], [-1.2970000505447388, 2.321000099182129, -1.309000015258789], [2.803999900817871, 2.684999942779541, -5.48799991607666], [6.310999870300293, 1.569000005722046, -4.458000183105469], [7.445000171661377, -2.0260000228881836, -2.4779999256134033], [4.828000068664551, -6.373000144958496, -2.499000072479248], [5.453999996185303, -4.36299991607666, 0.8519999980926514], [7.336999893188477, 1.0110000371932983, 3.23799991607666], [5.697999954223633, 0.8960000276565552, 6.281000137329102], [1.0299999713897705, 0.07100000232458115, 4.052000045776367], [2.628000020980835, -4.622000217437744, 6.5329999923706055]]\n"
     ]
    },
    {
     "name": "stderr",
     "output_type": "stream",
     "text": [
      "/root/miniconda3/envs/sclab/lib/python3.8/site-packages/Bio/PDB/Atom.py:232: PDBConstructionWarning: Used element 'C' for Atom (name=CA) with given element ''\n",
      "  warnings.warn(msg, PDBConstructionWarning)\n",
      "/root/miniconda3/envs/sclab/lib/python3.8/site-packages/Bio/PDB/Atom.py:232: PDBConstructionWarning: Used element 'C' for Atom (name=CA) with given element ''\n",
      "  warnings.warn(msg, PDBConstructionWarning)\n",
      "/root/miniconda3/envs/sclab/lib/python3.8/site-packages/Bio/PDB/Atom.py:232: PDBConstructionWarning: Used element 'C' for Atom (name=CA) with given element ''\n",
      "  warnings.warn(msg, PDBConstructionWarning)\n"
     ]
    }
   ],
   "source": [
    "# PDGFRA = {\n",
    "#     'OPC': cal_volume('/lmh_data/work/sclab/analyse/3DMax/PDGFRA_OPC/tmpeokrdew7_1667112131170.pdb'),\n",
    "#     'ODC': cal_volume('/lmh_data/work/sclab/analyse/3DMax/PDGFRA_ODC/tmpx4e2semj_1667112156246.pdb'),\n",
    "#     'Astro': cal_volume('/lmh_data/work/sclab/analyse/3DMax/PDGFRA_Astro/tmpo0ac7x28_1667112170525.pdb')\n",
    "# }\n",
    "\n",
    "MBP = {\n",
    "    'OPC': cal_volume('/lmh_data/work/sclab/analyse/3DMax/MBP_OPC/tmp1ex_vi7y_1667128114749.pdb'),\n",
    "    'ODC': cal_volume('/lmh_data/work/sclab/analyse/3DMax/MBP_ODC/tmpnmmxsosm_1667128365473.pdb'),\n",
    "    'Astro': cal_volume('/lmh_data/work/sclab/analyse/3DMax/MBP_Astro/tmpj4z96bq__1667111964388.pdb')\n",
    "}"
   ]
  },
  {
   "cell_type": "code",
   "execution_count": 8,
   "id": "d07e9b5b",
   "metadata": {},
   "outputs": [
    {
     "data": {
      "text/html": [
       "<div>\n",
       "<style scoped>\n",
       "    .dataframe tbody tr th:only-of-type {\n",
       "        vertical-align: middle;\n",
       "    }\n",
       "\n",
       "    .dataframe tbody tr th {\n",
       "        vertical-align: top;\n",
       "    }\n",
       "\n",
       "    .dataframe thead th {\n",
       "        text-align: right;\n",
       "    }\n",
       "</style>\n",
       "<table border=\"1\" class=\"dataframe\">\n",
       "  <thead>\n",
       "    <tr style=\"text-align: right;\">\n",
       "      <th></th>\n",
       "      <th>index</th>\n",
       "      <th>variable</th>\n",
       "      <th>value</th>\n",
       "    </tr>\n",
       "  </thead>\n",
       "  <tbody>\n",
       "    <tr>\n",
       "      <th>0</th>\n",
       "      <td>OPC</td>\n",
       "      <td>PDGFRA</td>\n",
       "      <td>453.270347</td>\n",
       "    </tr>\n",
       "    <tr>\n",
       "      <th>1</th>\n",
       "      <td>ODC</td>\n",
       "      <td>PDGFRA</td>\n",
       "      <td>529.365134</td>\n",
       "    </tr>\n",
       "    <tr>\n",
       "      <th>2</th>\n",
       "      <td>Astro</td>\n",
       "      <td>PDGFRA</td>\n",
       "      <td>408.348595</td>\n",
       "    </tr>\n",
       "    <tr>\n",
       "      <th>3</th>\n",
       "      <td>OPC</td>\n",
       "      <td>MBP</td>\n",
       "      <td>1200.107866</td>\n",
       "    </tr>\n",
       "    <tr>\n",
       "      <th>4</th>\n",
       "      <td>ODC</td>\n",
       "      <td>MBP</td>\n",
       "      <td>810.402377</td>\n",
       "    </tr>\n",
       "    <tr>\n",
       "      <th>5</th>\n",
       "      <td>Astro</td>\n",
       "      <td>MBP</td>\n",
       "      <td>1041.582345</td>\n",
       "    </tr>\n",
       "  </tbody>\n",
       "</table>\n",
       "</div>"
      ],
      "text/plain": [
       "   index variable        value\n",
       "0    OPC   PDGFRA   453.270347\n",
       "1    ODC   PDGFRA   529.365134\n",
       "2  Astro   PDGFRA   408.348595\n",
       "3    OPC      MBP  1200.107866\n",
       "4    ODC      MBP   810.402377\n",
       "5  Astro      MBP  1041.582345"
      ]
     },
     "execution_count": 8,
     "metadata": {},
     "output_type": "execute_result"
    }
   ],
   "source": [
    "PDGFRA_df = pd.DataFrame.from_dict(PDGFRA, orient='index', columns=['PDGFRA'])\n",
    "MBP_df = pd.DataFrame.from_dict(MBP, orient='index', columns=['MBP'])\n",
    "_df = pd.concat([PDGFRA_df, MBP_df], axis=1)\n",
    "_df = pd.melt(_df.reset_index(), id_vars=[\"index\"], value_vars=[\"PDGFRA\", \"MBP\"])\n",
    "_df"
   ]
  },
  {
   "cell_type": "code",
   "execution_count": 9,
   "id": "67f1eff0",
   "metadata": {},
   "outputs": [
    {
     "data": {
      "text/plain": [
       "<AxesSubplot: xlabel='index', ylabel='value'>"
      ]
     },
     "execution_count": 9,
     "metadata": {},
     "output_type": "execute_result"
    },
    {
     "data": {
      "image/png": "[encoded data removed]",
      "text/plain": [
       "<Figure size 640x480 with 1 Axes>"
      ]
     },
     "metadata": {},
     "output_type": "display_data"
    }
   ],
   "source": [
    "sns.histplot(_df, x=\"index\", y=\"value\", hue=\"variable\", palette=\"Set1\")"
   ]
  },
  {
   "cell_type": "code",
   "execution_count": null,
   "id": "c0c4cfe5",
   "metadata": {},
   "outputs": [],
   "source": [
    "sns.histplot(pd.melt(PDGFRA_df.reset_index(), id_vars=[\"index\"]), x=\"index\", y=\"value\", palette=\"Set1\")"
   ]
  },
  {
   "cell_type": "code",
   "execution_count": null,
   "id": "9b514ad0",
   "metadata": {},
   "outputs": [],
   "source": []
  }
 ],
 "metadata": {
  "kernelspec": {
   "display_name": "sclab",
   "language": "python",
   "name": "sclab"
  },
  "language_info": {
   "codemirror_mode": {
    "name": "ipython",
    "version": 3
   },
   "file_extension": ".py",
   "mimetype": "text/x-python",
   "name": "python",
   "nbconvert_exporter": "python",
   "pygments_lexer": "ipython3",
   "version": "3.8.13"
  }
 },
 "nbformat": 4,
 "nbformat_minor": 5
}
