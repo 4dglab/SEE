{
 "cells": [
  {
   "cell_type": "code",
   "execution_count": 1,
   "id": "c674a40d",
   "metadata": {},
   "outputs": [],
   "source": [
    "import pandas as pd\n",
    "import numpy as np\n",
    "import seaborn as sns\n",
    "import matplotlib.pyplot as plt\n",
    "import networkx as nx"
   ]
  },
  {
   "cell_type": "code",
   "execution_count": 2,
   "id": "a8fd11c6",
   "metadata": {},
   "outputs": [
    {
     "data": {
      "text/html": [
       "<div>\n",
       "<style scoped>\n",
       "    .dataframe tbody tr th:only-of-type {\n",
       "        vertical-align: middle;\n",
       "    }\n",
       "\n",
       "    .dataframe tbody tr th {\n",
       "        vertical-align: top;\n",
       "    }\n",
       "\n",
       "    .dataframe thead th {\n",
       "        text-align: right;\n",
       "    }\n",
       "</style>\n",
       "<table border=\"1\" class=\"dataframe\">\n",
       "  <thead>\n",
       "    <tr style=\"text-align: right;\">\n",
       "      <th></th>\n",
       "      <th>index</th>\n",
       "      <th>value</th>\n",
       "      <th>name</th>\n",
       "      <th>category</th>\n",
       "    </tr>\n",
       "  </thead>\n",
       "  <tbody>\n",
       "    <tr>\n",
       "      <th>0</th>\n",
       "      <td>6429</td>\n",
       "      <td>1.000000</td>\n",
       "      <td>KCNIP4</td>\n",
       "      <td>PDGFRA</td>\n",
       "    </tr>\n",
       "    <tr>\n",
       "      <th>1</th>\n",
       "      <td>15794</td>\n",
       "      <td>0.808847</td>\n",
       "      <td>MALAT1</td>\n",
       "      <td>PDGFRA</td>\n",
       "    </tr>\n",
       "    <tr>\n",
       "      <th>2</th>\n",
       "      <td>10961</td>\n",
       "      <td>0.804236</td>\n",
       "      <td>LHFPL3</td>\n",
       "      <td>PDGFRA</td>\n",
       "    </tr>\n",
       "    <tr>\n",
       "      <th>3</th>\n",
       "      <td>15278</td>\n",
       "      <td>0.478197</td>\n",
       "      <td>LRRC4C</td>\n",
       "      <td>PDGFRA</td>\n",
       "    </tr>\n",
       "    <tr>\n",
       "      <th>4</th>\n",
       "      <td>11485</td>\n",
       "      <td>0.463631</td>\n",
       "      <td>CSMD1</td>\n",
       "      <td>PDGFRA</td>\n",
       "    </tr>\n",
       "    <tr>\n",
       "      <th>...</th>\n",
       "      <td>...</td>\n",
       "      <td>...</td>\n",
       "      <td>...</td>\n",
       "      <td>...</td>\n",
       "    </tr>\n",
       "    <tr>\n",
       "      <th>29115</th>\n",
       "      <td>23043</td>\n",
       "      <td>-0.169978</td>\n",
       "      <td>CA10</td>\n",
       "      <td>VCAN</td>\n",
       "    </tr>\n",
       "    <tr>\n",
       "      <th>29116</th>\n",
       "      <td>12070</td>\n",
       "      <td>-0.208728</td>\n",
       "      <td>RALYL</td>\n",
       "      <td>VCAN</td>\n",
       "    </tr>\n",
       "    <tr>\n",
       "      <th>29117</th>\n",
       "      <td>14609</td>\n",
       "      <td>-0.222229</td>\n",
       "      <td>ATRNL1</td>\n",
       "      <td>VCAN</td>\n",
       "    </tr>\n",
       "    <tr>\n",
       "      <th>29118</th>\n",
       "      <td>3295</td>\n",
       "      <td>-0.319588</td>\n",
       "      <td>LRRTM4</td>\n",
       "      <td>VCAN</td>\n",
       "    </tr>\n",
       "    <tr>\n",
       "      <th>29119</th>\n",
       "      <td>11438</td>\n",
       "      <td>-0.336900</td>\n",
       "      <td>DPP6</td>\n",
       "      <td>VCAN</td>\n",
       "    </tr>\n",
       "  </tbody>\n",
       "</table>\n",
       "<p>87360 rows × 4 columns</p>\n",
       "</div>"
      ],
      "text/plain": [
       "       index     value    name category\n",
       "0       6429  1.000000  KCNIP4   PDGFRA\n",
       "1      15794  0.808847  MALAT1   PDGFRA\n",
       "2      10961  0.804236  LHFPL3   PDGFRA\n",
       "3      15278  0.478197  LRRC4C   PDGFRA\n",
       "4      11485  0.463631   CSMD1   PDGFRA\n",
       "...      ...       ...     ...      ...\n",
       "29115  23043 -0.169978    CA10     VCAN\n",
       "29116  12070 -0.208728   RALYL     VCAN\n",
       "29117  14609 -0.222229  ATRNL1     VCAN\n",
       "29118   3295 -0.319588  LRRTM4     VCAN\n",
       "29119  11438 -0.336900    DPP6     VCAN\n",
       "\n",
       "[87360 rows x 4 columns]"
      ]
     },
     "execution_count": 2,
     "metadata": {},
     "output_type": "execute_result"
    }
   ],
   "source": [
    "analysis_gene_names = ['PDGFRA', 'PTPRZ1', 'VCAN']\n",
    "genes = dict()\n",
    "for gene_name in analysis_gene_names:\n",
    "    genes[gene_name] = pd.read_csv('tmp/related_genes_{}.csv'.format(gene_name))\n",
    "    genes[gene_name]['value'] /= genes[gene_name]['value'].max()\n",
    "    genes[gene_name]['category'] = gene_name\n",
    "\n",
    "genes = pd.concat(list(genes.values()))\n",
    "genes"
   ]
  },
  {
   "cell_type": "code",
   "execution_count": 3,
   "id": "5157b4f5",
   "metadata": {},
   "outputs": [],
   "source": [
    "TF = pd.read_csv('/lmh_data/data/sclab/source/Homo_sapiens_TF', sep='\\t', index_col=0)\n",
    "TF_cofactors = pd.read_csv('/lmh_data/data/sclab/source/Homo_sapiens_TF_cofactors', sep='\\t', index_col=0)\n",
    "RBP = pd.read_csv('/lmh_data/data/sclab/source/Homo_sapiens_RBP', sep='\\t', index_col=0, header=None)"
   ]
  },
  {
   "cell_type": "code",
   "execution_count": 4,
   "id": "b1676063",
   "metadata": {},
   "outputs": [],
   "source": [
    "TF, TF_cofactors, RBP = TF['Symbol'].unique(), TF_cofactors['Symbol'].unique(), RBP[1].unique()\n",
    "gene_names = set(TF)\n",
    "# | set(TF_cofactors) | set(RBP)"
   ]
  },
  {
   "cell_type": "code",
   "execution_count": 5,
   "id": "1d2f0e0c",
   "metadata": {},
   "outputs": [],
   "source": [
    "scenic_adjacencies = pd.read_csv('/lmh_data/data/sclab/SCENIC/scenic_adjacencies_OPC.csv')"
   ]
  },
  {
   "cell_type": "code",
   "execution_count": 6,
   "id": "5c428e6f",
   "metadata": {},
   "outputs": [],
   "source": [
    "_gene_names = gene_names & set(genes['name'])\n",
    "_adj = scenic_adjacencies[\n",
    "    (scenic_adjacencies['TF'].isin(_gene_names))&(scenic_adjacencies['target'].isin(analysis_gene_names))]\n",
    "x, y = [], []\n",
    "for _tf_name in _gene_names:\n",
    "    for _target_name in analysis_gene_names:\n",
    "        _x = _adj[(_adj['TF']==_tf_name)&(_adj['target']==_target_name)]\n",
    "        if _x.shape[0] == 0:\n",
    "            continue\n",
    "        x.append(_x['importance'].values[0])\n",
    "        y.append(genes[(genes['name']==_tf_name)&(genes['category']==_target_name)]['value'].values[0])"
   ]
  },
  {
   "cell_type": "code",
   "execution_count": 7,
   "id": "94aec7d1",
   "metadata": {},
   "outputs": [
    {
     "data": {
      "text/plain": [
       "[<matplotlib.lines.Line2D at 0x7f804ab435e0>]"
      ]
     },
     "execution_count": 7,
     "metadata": {},
     "output_type": "execute_result"
    },
    {
     "data": {
      "image/png": "[encoded data removed]",
      "text/plain": [
       "<Figure size 640x480 with 1 Axes>"
      ]
     },
     "metadata": {},
     "output_type": "display_data"
    }
   ],
   "source": [
    "_x, _y = np.log1p(x), [abs(i) for i in y]\n",
    "parameter = np.polyfit(_x, _y, 1)\n",
    "_y2 = parameter[0] * _x + parameter[1]\n",
    "plt.scatter(_x, _y)\n",
    "plt.plot(_x, _y2, color='g')"
   ]
  },
  {
   "cell_type": "code",
   "execution_count": 8,
   "id": "d3756c69",
   "metadata": {},
   "outputs": [
    {
     "data": {
      "text/plain": [
       "<matplotlib_venn._common.VennDiagram at 0x7f804aab3c10>"
      ]
     },
     "execution_count": 8,
     "metadata": {},
     "output_type": "execute_result"
    },
    {
     "data": {
      "image/png": "[encoded data removed]",
      "text/plain": [
       "<Figure size 640x480 with 1 Axes>"
      ]
     },
     "metadata": {},
     "output_type": "display_data"
    }
   ],
   "source": [
    "from matplotlib_venn import venn2\n",
    "\n",
    "_gene_names = gene_names & set(genes['name'])\n",
    "_genes = genes[genes['name'].isin(_gene_names)].copy()\n",
    "_adj = scenic_adjacencies[\n",
    "    (scenic_adjacencies['TF'].isin(_gene_names))&(scenic_adjacencies['target'].isin(analysis_gene_names))]\n",
    "\n",
    "_genes['value'] = abs(_genes['value'])\n",
    "predict_tf = set(_genes.sort_values('value', ascending=False).head(int(_genes.shape[0]*.1))['name'].unique())\n",
    "SCENIC_tf = set(_adj.sort_values('importance', ascending=False).head(int(_genes.shape[0]*.1))['TF'].unique())\n",
    "\n",
    "venn2(subsets = [predict_tf, SCENIC_tf], set_labels = ('SEE', 'SCENIC'))"
   ]
  }
 ],
 "metadata": {
  "kernelspec": {
   "display_name": "sclab",
   "language": "python",
   "name": "sclab"
  },
  "language_info": {
   "codemirror_mode": {
    "name": "ipython",
    "version": 3
   },
   "file_extension": ".py",
   "mimetype": "text/x-python",
   "name": "python",
   "nbconvert_exporter": "python",
   "pygments_lexer": "ipython3",
   "version": "3.8.13"
  }
 },
 "nbformat": 4,
 "nbformat_minor": 5
}
