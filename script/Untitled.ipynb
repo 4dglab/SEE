{
 "cells": [
  {
   "cell_type": "code",
   "execution_count": null,
   "id": "73e1ba68",
   "metadata": {},
   "outputs": [],
   "source": [
    "import pandas as pd\n",
    "import tqdm"
   ]
  },
  {
   "cell_type": "code",
   "execution_count": null,
   "id": "c509ffa6",
   "metadata": {},
   "outputs": [],
   "source": [
    "hic = pd.read_csv('/home/micl/workspace/lmh_data/Lee2019/BandNorm/bandnorm_result.txt', sep='\\t')\n",
    "hic"
   ]
  },
  {
   "cell_type": "code",
   "execution_count": null,
   "id": "ead003c8",
   "metadata": {},
   "outputs": [],
   "source": [
    "hic_group = hic.groupby('cell')\n",
    "_hic = pd.DataFrame()\n",
    "for key in tqdm.notebook.tqdm(hic_group.groups, desc='group'):\n",
    "    _data = hic_group.get_group(key)\n",
    "    _data = _data.pivot_table(index=['chrom', 'binA'], values='BandNorm').T\n",
    "    _data.index = [key]\n",
    "    _hic = pd.concat([_hic, _data], join='outer')\n",
    "hic = _hic\n",
    "hic = hic.fillna(0)\n",
    "hic"
   ]
  },
  {
   "cell_type": "code",
   "execution_count": null,
   "id": "411c3753",
   "metadata": {},
   "outputs": [],
   "source": [
    "_hic = anndata.AnnData(X=hic)\n",
    "_hic.obs['cell_type'] = _hic.obs_names.str.split(r\"[:_]\").map(lambda x: x[5])\n",
    "\n",
    "sc.pp.highly_variable_genes(_hic, n_top_genes=2000, flavor=\"seurat_v3\")\n",
    "sc.pp.normalize_total(_hic)\n",
    "sc.pp.log1p(_hic)\n",
    "sc.pp.scale(_hic)\n",
    "sc.tl.pca(_hic, n_comps=100, svd_solver=\"auto\")\n",
    "\n",
    "sc.pp.neighbors(_hic, metric=\"cosine\")\n",
    "sc.tl.umap(_hic)\n",
    "sc.pl.umap(_hic, color=\"cell_type\")"
   ]
  }
 ],
 "metadata": {
  "kernelspec": {
   "display_name": "sclab",
   "language": "python",
   "name": "sclab"
  },
  "language_info": {
   "codemirror_mode": {
    "name": "ipython",
    "version": 3
   },
   "file_extension": ".py",
   "mimetype": "text/x-python",
   "name": "python",
   "nbconvert_exporter": "python",
   "pygments_lexer": "ipython3",
   "version": "3.8.13"
  }
 },
 "nbformat": 4,
 "nbformat_minor": 5
}
